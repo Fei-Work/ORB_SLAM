{
 "cells": [
  {
   "cell_type": "code",
   "execution_count": 1,
   "metadata": {},
   "outputs": [],
   "source": [
    "import pandas as pd"
   ]
  },
  {
   "cell_type": "code",
   "execution_count": 3,
   "metadata": {},
   "outputs": [],
   "source": [
    "filePath = \"/media/liu/KINGSTON/Complex_Urban_LiDAR_Data_Set/urban30-gangnam/sensor_data/stereo_stamp.csv\"\n",
    "outputPath = \"/media/liu/KINGSTON/Complex_Urban_LiDAR_Data_Set/urban30-gangnam/sensor_data/stereo_stamp_new.csv\"\n",
    "data = pd.read_csv(filePath, header=None)\n",
    "data.to_csv(outputPath, index=None, header=None)"
   ]
  },
  {
   "cell_type": "code",
   "execution_count": 2,
   "metadata": {},
   "outputs": [
    {
     "data": {
      "text/plain": [
       "527"
      ]
     },
     "execution_count": 2,
     "metadata": {},
     "output_type": "execute_result"
    }
   ],
   "source": [
    "filePath = \"/media/liu/KINGSTON/Complex_Urban_LiDAR_Data_Set/urban26-dongtan/sensor_data/stereo_stamp.csv\"\n",
    "outputPath = \"/media/liu/KINGSTON/Complex_Urban_LiDAR_Data_Set/urban26-dongtan/sensor_data/stereo_stamp_new.csv\"\n",
    "data = pd.read_csv(filePath, header=None)\n",
    "cut_tag = 1544580758915852235\n",
    "\n",
    "cut_index = 0\n",
    "for index,s in data.iterrows():\n",
    "    if(s[0]==cut_tag):\n",
    "        cut_index = index\n",
    "cut_index"
   ]
  },
  {
   "cell_type": "code",
   "execution_count": 3,
   "metadata": {},
   "outputs": [
    {
     "data": {
      "text/plain": [
       "5837"
      ]
     },
     "execution_count": 3,
     "metadata": {},
     "output_type": "execute_result"
    }
   ],
   "source": [
    "len(data)"
   ]
  },
  {
   "cell_type": "code",
   "execution_count": 21,
   "metadata": {},
   "outputs": [],
   "source": [
    "data = data.drop(data.index[0:cut_index])"
   ]
  },
  {
   "cell_type": "code",
   "execution_count": 4,
   "metadata": {},
   "outputs": [],
   "source": [
    "data.to_csv(outputPath, index=None, header=None)"
   ]
  }
 ],
 "metadata": {
  "kernelspec": {
   "display_name": "Python 3",
   "language": "python",
   "name": "python3"
  },
  "language_info": {
   "codemirror_mode": {
    "name": "ipython",
    "version": 3
   },
   "file_extension": ".py",
   "mimetype": "text/x-python",
   "name": "python",
   "nbconvert_exporter": "python",
   "pygments_lexer": "ipython3",
   "version": "3.8.10"
  }
 },
 "nbformat": 4,
 "nbformat_minor": 2
}
